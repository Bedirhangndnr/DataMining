{
 "cells": [
  {
   "cell_type": "code",
   "execution_count": 1,
   "id": "c01e014b-5f40-494a-b150-d765a0492b50",
   "metadata": {},
   "outputs": [],
   "source": [
    "from mpl_toolkits.mplot3d import Axes3D\n",
    "from sklearn.preprocessing import StandardScaler\n",
    "import matplotlib.pyplot as plt # plotting\n",
    "import numpy as np # linear algebra\n",
    "import os # accessing directory structure\n",
    "import pandas as pd # data processing, CSV file I/O (e.g. pd.read_csv)\n",
    "import warnings\n",
    "warnings.filterwarnings(\"ignore\") "
   ]
  },
  {
   "cell_type": "markdown",
   "id": "7c8f376c-b10d-40e5-ae12-16417bf77d8b",
   "metadata": {},
   "source": [
    "## Load Data"
   ]
  },
  {
   "cell_type": "code",
   "execution_count": 2,
   "id": "b45c4e3a-4d94-4a79-a0a6-dc1ca686b0e5",
   "metadata": {
    "tags": []
   },
   "outputs": [],
   "source": [
    "import pandas as pd\n",
    "from scipy.spatial import distance\n",
    "#https://www.google.com/covid19/mobility/\n",
    "url = 'https://drive.google.com/file/d/18gyHbx6rfogq3yQ-GR9COjcGgyYlCnBZ/view?usp=sharing'\n",
    "url2020 = 'https://drive.google.com/uc?id=' + url.split('/')[-2]\n",
    "import pandas as pd\n",
    "url = 'https://drive.google.com/file/d/1Eg8Lffm49bc-bGFkv_4ddrQw8U8WE6P4/view?usp=sharing'\n",
    "url2021 = 'https://drive.google.com/uc?id=' + url.split('/')[-2]"
   ]
  },
  {
   "cell_type": "code",
   "execution_count": 3,
   "id": "e3a97d12-699f-44f2-837f-ce6e4ae8f194",
   "metadata": {},
   "outputs": [],
   "source": [
    "df20 = pd.read_csv(url2020)\n",
    "df21 = pd.read_csv(url2021)"
   ]
  },
  {
   "cell_type": "markdown",
   "id": "649989a9-b01d-4bd3-8a38-97d0ec1058c1",
   "metadata": {},
   "source": [
    "**retail_and_recreation_percent_change_from_baseline**\n",
    "\n",
    "Mobility trends for places like restaurants, cafes, shopping centers, theme parks, museums, libraries, and movie theaters.\n",
    "\n",
    "**grocery_and_pharmacy_percent_change_from_baseline**\n",
    "\n",
    "Mobility trends for places like grocery markets, food warehouses, farmers markets, specialty food shops, drug stores, and pharmacies.\n",
    "\n",
    "**parks_percent_change_from_baseline**\n",
    "\n",
    "Mobility trends for places like local parks, national parks, public beaches, marinas, dog parks, plazas, and public gardens.\n",
    "\n",
    "**transit_stations_percent_change_from_baseline**\n",
    "\n",
    "Mobility trends for places like public transport hubs such as subway, bus, and train stations.\n",
    "\n",
    "**workplaces_percent_change_from_baseline**\n",
    "\n",
    "Mobility trends for places of work.\n"
   ]
  },
  {
   "cell_type": "code",
   "execution_count": 4,
   "id": "1d323f6b-ea5c-4788-a4d9-a7071fd59c44",
   "metadata": {},
   "outputs": [
    {
     "name": "stdout",
     "output_type": "stream",
     "text": [
      "<class 'pandas.core.frame.DataFrame'>\n",
      "RangeIndex: 167657 entries, 0 to 167656\n",
      "Data columns (total 15 columns):\n",
      " #   Column                                              Non-Null Count   Dtype  \n",
      "---  ------                                              --------------   -----  \n",
      " 0   country_region_code                                 167657 non-null  object \n",
      " 1   country_region                                      167657 non-null  object \n",
      " 2   sub_region_1                                        167336 non-null  object \n",
      " 3   sub_region_2                                        141692 non-null  object \n",
      " 4   metro_area                                          0 non-null       float64\n",
      " 5   iso_3166_2_code                                     25644 non-null   object \n",
      " 6   census_fips_code                                    0 non-null       float64\n",
      " 7   place_id                                            167657 non-null  object \n",
      " 8   date                                                167657 non-null  object \n",
      " 9   retail_and_recreation_percent_change_from_baseline  101865 non-null  float64\n",
      " 10  grocery_and_pharmacy_percent_change_from_baseline   106104 non-null  float64\n",
      " 11  parks_percent_change_from_baseline                  95186 non-null   float64\n",
      " 12  transit_stations_percent_change_from_baseline       87723 non-null   float64\n",
      " 13  workplaces_percent_change_from_baseline             158870 non-null  float64\n",
      " 14  residential_percent_change_from_baseline            98651 non-null   float64\n",
      "dtypes: float64(8), object(7)\n",
      "memory usage: 19.2+ MB\n"
     ]
    }
   ],
   "source": [
    "df20.info()"
   ]
  },
  {
   "cell_type": "code",
   "execution_count": 5,
   "id": "d2c67e14-bf3c-408b-a871-bd9c74bed2d6",
   "metadata": {},
   "outputs": [
    {
     "name": "stdout",
     "output_type": "stream",
     "text": [
      "<class 'pandas.core.frame.DataFrame'>\n",
      "RangeIndex: 158430 entries, 0 to 158429\n",
      "Data columns (total 15 columns):\n",
      " #   Column                                              Non-Null Count   Dtype  \n",
      "---  ------                                              --------------   -----  \n",
      " 0   country_region_code                                 158430 non-null  object \n",
      " 1   country_region                                      158430 non-null  object \n",
      " 2   sub_region_1                                        158152 non-null  object \n",
      " 3   sub_region_2                                        135654 non-null  object \n",
      " 4   metro_area                                          0 non-null       float64\n",
      " 5   iso_3166_2_code                                     22498 non-null   object \n",
      " 6   census_fips_code                                    0 non-null       float64\n",
      " 7   place_id                                            158430 non-null  object \n",
      " 8   date                                                158430 non-null  object \n",
      " 9   retail_and_recreation_percent_change_from_baseline  91170 non-null   float64\n",
      " 10  grocery_and_pharmacy_percent_change_from_baseline   92489 non-null   float64\n",
      " 11  parks_percent_change_from_baseline                  87099 non-null   float64\n",
      " 12  transit_stations_percent_change_from_baseline       78809 non-null   float64\n",
      " 13  workplaces_percent_change_from_baseline             154672 non-null  float64\n",
      " 14  residential_percent_change_from_baseline            98407 non-null   float64\n",
      "dtypes: float64(8), object(7)\n",
      "memory usage: 18.1+ MB\n"
     ]
    }
   ],
   "source": [
    "df21.info()"
   ]
  },
  {
   "cell_type": "code",
   "execution_count": 8,
   "id": "b58cc3da-9ab8-4bf1-a815-59c116bd0765",
   "metadata": {},
   "outputs": [
    {
     "data": {
      "text/html": [
       "<div>\n",
       "<style scoped>\n",
       "    .dataframe tbody tr th:only-of-type {\n",
       "        vertical-align: middle;\n",
       "    }\n",
       "\n",
       "    .dataframe tbody tr th {\n",
       "        vertical-align: top;\n",
       "    }\n",
       "\n",
       "    .dataframe thead th {\n",
       "        text-align: right;\n",
       "    }\n",
       "</style>\n",
       "<table border=\"1\" class=\"dataframe\">\n",
       "  <thead>\n",
       "    <tr style=\"text-align: right;\">\n",
       "      <th></th>\n",
       "      <th>country_region_code</th>\n",
       "      <th>country_region</th>\n",
       "      <th>sub_region_1</th>\n",
       "      <th>sub_region_2</th>\n",
       "      <th>metro_area</th>\n",
       "      <th>iso_3166_2_code</th>\n",
       "      <th>census_fips_code</th>\n",
       "      <th>place_id</th>\n",
       "      <th>date</th>\n",
       "      <th>retail_and_recreation_percent_change_from_baseline</th>\n",
       "      <th>grocery_and_pharmacy_percent_change_from_baseline</th>\n",
       "      <th>parks_percent_change_from_baseline</th>\n",
       "      <th>transit_stations_percent_change_from_baseline</th>\n",
       "      <th>workplaces_percent_change_from_baseline</th>\n",
       "      <th>residential_percent_change_from_baseline</th>\n",
       "    </tr>\n",
       "  </thead>\n",
       "  <tbody>\n",
       "    <tr>\n",
       "      <th>0</th>\n",
       "      <td>TR</td>\n",
       "      <td>Turkey</td>\n",
       "      <td>NaN</td>\n",
       "      <td>NaN</td>\n",
       "      <td>NaN</td>\n",
       "      <td>NaN</td>\n",
       "      <td>NaN</td>\n",
       "      <td>ChIJcSZPllwVsBQRKl9iKtTb2UA</td>\n",
       "      <td>2020-02-15</td>\n",
       "      <td>2.0</td>\n",
       "      <td>3.0</td>\n",
       "      <td>-11.0</td>\n",
       "      <td>-4.0</td>\n",
       "      <td>7.0</td>\n",
       "      <td>1.0</td>\n",
       "    </tr>\n",
       "    <tr>\n",
       "      <th>1</th>\n",
       "      <td>TR</td>\n",
       "      <td>Turkey</td>\n",
       "      <td>NaN</td>\n",
       "      <td>NaN</td>\n",
       "      <td>NaN</td>\n",
       "      <td>NaN</td>\n",
       "      <td>NaN</td>\n",
       "      <td>ChIJcSZPllwVsBQRKl9iKtTb2UA</td>\n",
       "      <td>2020-02-16</td>\n",
       "      <td>7.0</td>\n",
       "      <td>6.0</td>\n",
       "      <td>14.0</td>\n",
       "      <td>2.0</td>\n",
       "      <td>5.0</td>\n",
       "      <td>0.0</td>\n",
       "    </tr>\n",
       "    <tr>\n",
       "      <th>2</th>\n",
       "      <td>TR</td>\n",
       "      <td>Turkey</td>\n",
       "      <td>NaN</td>\n",
       "      <td>NaN</td>\n",
       "      <td>NaN</td>\n",
       "      <td>NaN</td>\n",
       "      <td>NaN</td>\n",
       "      <td>ChIJcSZPllwVsBQRKl9iKtTb2UA</td>\n",
       "      <td>2020-02-17</td>\n",
       "      <td>6.0</td>\n",
       "      <td>5.0</td>\n",
       "      <td>10.0</td>\n",
       "      <td>5.0</td>\n",
       "      <td>8.0</td>\n",
       "      <td>-2.0</td>\n",
       "    </tr>\n",
       "  </tbody>\n",
       "</table>\n",
       "</div>"
      ],
      "text/plain": [
       "  country_region_code country_region sub_region_1 sub_region_2  metro_area  \\\n",
       "0                  TR         Turkey          NaN          NaN         NaN   \n",
       "1                  TR         Turkey          NaN          NaN         NaN   \n",
       "2                  TR         Turkey          NaN          NaN         NaN   \n",
       "\n",
       "  iso_3166_2_code  census_fips_code                     place_id        date  \\\n",
       "0             NaN               NaN  ChIJcSZPllwVsBQRKl9iKtTb2UA  2020-02-15   \n",
       "1             NaN               NaN  ChIJcSZPllwVsBQRKl9iKtTb2UA  2020-02-16   \n",
       "2             NaN               NaN  ChIJcSZPllwVsBQRKl9iKtTb2UA  2020-02-17   \n",
       "\n",
       "   retail_and_recreation_percent_change_from_baseline  \\\n",
       "0                                                2.0    \n",
       "1                                                7.0    \n",
       "2                                                6.0    \n",
       "\n",
       "   grocery_and_pharmacy_percent_change_from_baseline  \\\n",
       "0                                                3.0   \n",
       "1                                                6.0   \n",
       "2                                                5.0   \n",
       "\n",
       "   parks_percent_change_from_baseline  \\\n",
       "0                               -11.0   \n",
       "1                                14.0   \n",
       "2                                10.0   \n",
       "\n",
       "   transit_stations_percent_change_from_baseline  \\\n",
       "0                                           -4.0   \n",
       "1                                            2.0   \n",
       "2                                            5.0   \n",
       "\n",
       "   workplaces_percent_change_from_baseline  \\\n",
       "0                                      7.0   \n",
       "1                                      5.0   \n",
       "2                                      8.0   \n",
       "\n",
       "   residential_percent_change_from_baseline  \n",
       "0                                       1.0  \n",
       "1                                       0.0  \n",
       "2                                      -2.0  "
      ]
     },
     "execution_count": 8,
     "metadata": {},
     "output_type": "execute_result"
    }
   ],
   "source": [
    "frames = [df20, df21]\n",
    "g_mob=pd.concat(frames)\n",
    "g_mob.index=range(0,len(g_mob))\n",
    "g_mob.head(3)"
   ]
  },
  {
   "cell_type": "code",
   "execution_count": 9,
   "id": "0a5116c0-dec5-409b-b49f-ae9fd0a123ea",
   "metadata": {
    "tags": []
   },
   "outputs": [],
   "source": [
    "#g_mob.info()\n"
   ]
  },
  {
   "cell_type": "code",
   "execution_count": 10,
   "id": "0e48842d-fb07-410c-b5dd-c05a33fb8396",
   "metadata": {
    "tags": []
   },
   "outputs": [],
   "source": [
    "g_mob=g_mob[[\"date\",\n",
    "             \"retail_and_recreation_percent_change_from_baseline\",\n",
    "             \"grocery_and_pharmacy_percent_change_from_baseline\",\n",
    "             \"parks_percent_change_from_baseline\",\n",
    "             \"transit_stations_percent_change_from_baseline\",\n",
    "             \"workplaces_percent_change_from_baseline\"]]\n",
    "g_mob.rename(columns={\n",
    "             \"date\":\"date\",\n",
    "             \"retail_and_recreation_percent_change_from_baseline\":\"restaurants_cafes\" ,\n",
    "             \"grocery_and_pharmacy_percent_change_from_baseline\":\"grocery_pharmacies\" ,\n",
    "             \"parks_percent_change_from_baseline\":\"parks\" ,\n",
    "             \"transit_stations_percent_change_from_baseline\":\"subway_train\" ,\n",
    "             \"workplaces_percent_change_from_baseline\":\"workplaces\" \n",
    "}, \n",
    "             inplace=True);"
   ]
  },
  {
   "cell_type": "code",
   "execution_count": 11,
   "id": "fedee4d0-9bba-49ce-8d0a-ee14ba5e9031",
   "metadata": {},
   "outputs": [
    {
     "data": {
      "text/html": [
       "<div>\n",
       "<style scoped>\n",
       "    .dataframe tbody tr th:only-of-type {\n",
       "        vertical-align: middle;\n",
       "    }\n",
       "\n",
       "    .dataframe tbody tr th {\n",
       "        vertical-align: top;\n",
       "    }\n",
       "\n",
       "    .dataframe thead th {\n",
       "        text-align: right;\n",
       "    }\n",
       "</style>\n",
       "<table border=\"1\" class=\"dataframe\">\n",
       "  <thead>\n",
       "    <tr style=\"text-align: right;\">\n",
       "      <th></th>\n",
       "      <th>date</th>\n",
       "      <th>restaurants_cafes</th>\n",
       "      <th>grocery_pharmacies</th>\n",
       "      <th>parks</th>\n",
       "      <th>subway_train</th>\n",
       "      <th>workplaces</th>\n",
       "    </tr>\n",
       "  </thead>\n",
       "  <tbody>\n",
       "    <tr>\n",
       "      <th>0</th>\n",
       "      <td>2020-02-15</td>\n",
       "      <td>2.0</td>\n",
       "      <td>3.0</td>\n",
       "      <td>-11.0</td>\n",
       "      <td>-4.0</td>\n",
       "      <td>7.0</td>\n",
       "    </tr>\n",
       "    <tr>\n",
       "      <th>1</th>\n",
       "      <td>2020-02-16</td>\n",
       "      <td>7.0</td>\n",
       "      <td>6.0</td>\n",
       "      <td>14.0</td>\n",
       "      <td>2.0</td>\n",
       "      <td>5.0</td>\n",
       "    </tr>\n",
       "    <tr>\n",
       "      <th>2</th>\n",
       "      <td>2020-02-17</td>\n",
       "      <td>6.0</td>\n",
       "      <td>5.0</td>\n",
       "      <td>10.0</td>\n",
       "      <td>5.0</td>\n",
       "      <td>8.0</td>\n",
       "    </tr>\n",
       "  </tbody>\n",
       "</table>\n",
       "</div>"
      ],
      "text/plain": [
       "         date  restaurants_cafes  grocery_pharmacies  parks  subway_train  \\\n",
       "0  2020-02-15                2.0                 3.0  -11.0          -4.0   \n",
       "1  2020-02-16                7.0                 6.0   14.0           2.0   \n",
       "2  2020-02-17                6.0                 5.0   10.0           5.0   \n",
       "\n",
       "   workplaces  \n",
       "0         7.0  \n",
       "1         5.0  \n",
       "2         8.0  "
      ]
     },
     "execution_count": 11,
     "metadata": {},
     "output_type": "execute_result"
    }
   ],
   "source": [
    "g_mob.head(3)"
   ]
  },
  {
   "cell_type": "code",
   "execution_count": 12,
   "id": "2d4b7c74-c046-4f30-9b57-60333e73b0a8",
   "metadata": {},
   "outputs": [
    {
     "name": "stdout",
     "output_type": "stream",
     "text": [
      "<class 'pandas.core.frame.DataFrame'>\n",
      "RangeIndex: 326087 entries, 0 to 326086\n",
      "Data columns (total 6 columns):\n",
      " #   Column              Non-Null Count   Dtype  \n",
      "---  ------              --------------   -----  \n",
      " 0   date                326087 non-null  object \n",
      " 1   restaurants_cafes   193035 non-null  float64\n",
      " 2   grocery_pharmacies  198593 non-null  float64\n",
      " 3   parks               182285 non-null  float64\n",
      " 4   subway_train        166532 non-null  float64\n",
      " 5   workplaces          313542 non-null  float64\n",
      "dtypes: float64(5), object(1)\n",
      "memory usage: 14.9+ MB\n"
     ]
    }
   ],
   "source": [
    "g_mob.info()"
   ]
  },
  {
   "cell_type": "markdown",
   "id": "daac508a-17f7-47ae-be44-136c117bed87",
   "metadata": {},
   "source": [
    "#### Biraz inceledikten sonra bazı veri ön işleme adımlarını gerçekleştirmemiz gerektiği görüldü\n",
    "- Bazı columnlarda fazla sayıda eksik değer var. Bu eksik değerleri doldurmalıyız.  \n",
    "- __\"Date\"__ değişkeni ayırıp, gün, ay, hafta şeklinde 3 sütun daha eklemek bizim için faydalı olacak.\n",
    "- Tarihlere göre mobility değişimini hakkında bir içgörü kazanmak adına verileri görselleştireceğiz. Bununla birlikte, bu görselleştirmeye \"covid ölümleri\" ni de dahil edersek faydalı lacak. O yüzden Covid- ölüm datasını bu dataya ekleyeceğiz. Şu anlık bunları yapıp devam edeceğiz. \n"
   ]
  },
  {
   "cell_type": "markdown",
   "id": "b57091a5-fec1-4da0-9273-80a1508c3d95",
   "metadata": {},
   "source": [
    "__Eksik gözlem analizi__  "
   ]
  },
  {
   "cell_type": "code",
   "execution_count": 13,
   "id": "f2b5fb93-fa07-4435-8a3f-624df7ce6096",
   "metadata": {},
   "outputs": [
    {
     "data": {
      "text/html": [
       "<div>\n",
       "<style scoped>\n",
       "    .dataframe tbody tr th:only-of-type {\n",
       "        vertical-align: middle;\n",
       "    }\n",
       "\n",
       "    .dataframe tbody tr th {\n",
       "        vertical-align: top;\n",
       "    }\n",
       "\n",
       "    .dataframe thead th {\n",
       "        text-align: right;\n",
       "    }\n",
       "</style>\n",
       "<table border=\"1\" class=\"dataframe\">\n",
       "  <thead>\n",
       "    <tr style=\"text-align: right;\">\n",
       "      <th></th>\n",
       "      <th>restaurants_cafes</th>\n",
       "      <th>grocery_pharmacies</th>\n",
       "      <th>parks</th>\n",
       "      <th>subway_train</th>\n",
       "      <th>workplaces</th>\n",
       "    </tr>\n",
       "  </thead>\n",
       "  <tbody>\n",
       "    <tr>\n",
       "      <th>0</th>\n",
       "      <td>2.0</td>\n",
       "      <td>3.0</td>\n",
       "      <td>-11.0</td>\n",
       "      <td>-4.0</td>\n",
       "      <td>7.0</td>\n",
       "    </tr>\n",
       "    <tr>\n",
       "      <th>1</th>\n",
       "      <td>7.0</td>\n",
       "      <td>6.0</td>\n",
       "      <td>14.0</td>\n",
       "      <td>2.0</td>\n",
       "      <td>5.0</td>\n",
       "    </tr>\n",
       "    <tr>\n",
       "      <th>2</th>\n",
       "      <td>6.0</td>\n",
       "      <td>5.0</td>\n",
       "      <td>10.0</td>\n",
       "      <td>5.0</td>\n",
       "      <td>8.0</td>\n",
       "    </tr>\n",
       "    <tr>\n",
       "      <th>3</th>\n",
       "      <td>4.0</td>\n",
       "      <td>6.0</td>\n",
       "      <td>11.0</td>\n",
       "      <td>4.0</td>\n",
       "      <td>8.0</td>\n",
       "    </tr>\n",
       "    <tr>\n",
       "      <th>4</th>\n",
       "      <td>0.0</td>\n",
       "      <td>3.0</td>\n",
       "      <td>6.0</td>\n",
       "      <td>0.0</td>\n",
       "      <td>9.0</td>\n",
       "    </tr>\n",
       "    <tr>\n",
       "      <th>...</th>\n",
       "      <td>...</td>\n",
       "      <td>...</td>\n",
       "      <td>...</td>\n",
       "      <td>...</td>\n",
       "      <td>...</td>\n",
       "    </tr>\n",
       "    <tr>\n",
       "      <th>326082</th>\n",
       "      <td>-12.0</td>\n",
       "      <td>101.0</td>\n",
       "      <td>NaN</td>\n",
       "      <td>-17.0</td>\n",
       "      <td>-15.0</td>\n",
       "    </tr>\n",
       "    <tr>\n",
       "      <th>326083</th>\n",
       "      <td>-14.0</td>\n",
       "      <td>65.0</td>\n",
       "      <td>NaN</td>\n",
       "      <td>-9.0</td>\n",
       "      <td>-17.0</td>\n",
       "    </tr>\n",
       "    <tr>\n",
       "      <th>326084</th>\n",
       "      <td>-20.0</td>\n",
       "      <td>NaN</td>\n",
       "      <td>NaN</td>\n",
       "      <td>-19.0</td>\n",
       "      <td>-24.0</td>\n",
       "    </tr>\n",
       "    <tr>\n",
       "      <th>326085</th>\n",
       "      <td>-8.0</td>\n",
       "      <td>111.0</td>\n",
       "      <td>NaN</td>\n",
       "      <td>-4.0</td>\n",
       "      <td>-15.0</td>\n",
       "    </tr>\n",
       "    <tr>\n",
       "      <th>326086</th>\n",
       "      <td>-12.0</td>\n",
       "      <td>97.0</td>\n",
       "      <td>NaN</td>\n",
       "      <td>-8.0</td>\n",
       "      <td>-15.0</td>\n",
       "    </tr>\n",
       "  </tbody>\n",
       "</table>\n",
       "<p>326087 rows × 5 columns</p>\n",
       "</div>"
      ],
      "text/plain": [
       "        restaurants_cafes  grocery_pharmacies  parks  subway_train  workplaces\n",
       "0                     2.0                 3.0  -11.0          -4.0         7.0\n",
       "1                     7.0                 6.0   14.0           2.0         5.0\n",
       "2                     6.0                 5.0   10.0           5.0         8.0\n",
       "3                     4.0                 6.0   11.0           4.0         8.0\n",
       "4                     0.0                 3.0    6.0           0.0         9.0\n",
       "...                   ...                 ...    ...           ...         ...\n",
       "326082              -12.0               101.0    NaN         -17.0       -15.0\n",
       "326083              -14.0                65.0    NaN          -9.0       -17.0\n",
       "326084              -20.0                 NaN    NaN         -19.0       -24.0\n",
       "326085               -8.0               111.0    NaN          -4.0       -15.0\n",
       "326086              -12.0                97.0    NaN          -8.0       -15.0\n",
       "\n",
       "[326087 rows x 5 columns]"
      ]
     },
     "execution_count": 13,
     "metadata": {},
     "output_type": "execute_result"
    }
   ],
   "source": [
    "g_mob.iloc[:, 1:]"
   ]
  },
  {
   "cell_type": "code",
   "execution_count": null,
   "id": "0a34550f-b804-4fdf-82ff-1bfc4bcc5d87",
   "metadata": {},
   "outputs": [],
   "source": []
  },
  {
   "cell_type": "code",
   "execution_count": 16,
   "id": "9383b71c-74b3-4715-bf79-2e2c4069ad22",
   "metadata": {
    "tags": []
   },
   "outputs": [
    {
     "data": {
      "text/plain": [
       "(5000, 5)"
      ]
     },
     "execution_count": 16,
     "metadata": {},
     "output_type": "execute_result"
    }
   ],
   "source": [
    "#!pip install ycimpute\n",
    "from ycimpute.imputer import knnimput\n",
    "names=list(g_mob)\n",
    "nparray_df=np.array(g_mob.iloc[:5000, 1:], dtype=\"float16\")\n",
    "nparray_df.shape"
   ]
  },
  {
   "cell_type": "code",
   "execution_count": 86,
   "id": "7ddee506-e9fc-43f7-a3fb-7791a4ea444c",
   "metadata": {
    "tags": []
   },
   "outputs": [],
   "source": [
    "g_mob_filled=g_mob.copy()"
   ]
  },
  {
   "cell_type": "code",
   "execution_count": 87,
   "id": "b91ec1cb-400c-4460-b976-4e77b74c11f3",
   "metadata": {},
   "outputs": [
    {
     "data": {
      "text/html": [
       "<div>\n",
       "<style scoped>\n",
       "    .dataframe tbody tr th:only-of-type {\n",
       "        vertical-align: middle;\n",
       "    }\n",
       "\n",
       "    .dataframe tbody tr th {\n",
       "        vertical-align: top;\n",
       "    }\n",
       "\n",
       "    .dataframe thead th {\n",
       "        text-align: right;\n",
       "    }\n",
       "</style>\n",
       "<table border=\"1\" class=\"dataframe\">\n",
       "  <thead>\n",
       "    <tr style=\"text-align: right;\">\n",
       "      <th></th>\n",
       "      <th>restaurants_cafes</th>\n",
       "      <th>grocery_pharmacies</th>\n",
       "      <th>parks</th>\n",
       "      <th>subway_train</th>\n",
       "      <th>workplaces</th>\n",
       "    </tr>\n",
       "  </thead>\n",
       "  <tbody>\n",
       "    <tr>\n",
       "      <th>0</th>\n",
       "      <td>2.0</td>\n",
       "      <td>3.0</td>\n",
       "      <td>-11.0</td>\n",
       "      <td>-4.0</td>\n",
       "      <td>7.0</td>\n",
       "    </tr>\n",
       "    <tr>\n",
       "      <th>1</th>\n",
       "      <td>7.0</td>\n",
       "      <td>6.0</td>\n",
       "      <td>14.0</td>\n",
       "      <td>2.0</td>\n",
       "      <td>5.0</td>\n",
       "    </tr>\n",
       "  </tbody>\n",
       "</table>\n",
       "</div>"
      ],
      "text/plain": [
       "   restaurants_cafes  grocery_pharmacies  parks  subway_train  workplaces\n",
       "0                2.0                 3.0  -11.0          -4.0         7.0\n",
       "1                7.0                 6.0   14.0           2.0         5.0"
      ]
     },
     "execution_count": 87,
     "metadata": {},
     "output_type": "execute_result"
    }
   ],
   "source": [
    "features_to_fill=[\"restaurants_cafes\",\"grocery_pharmacies\",\"parks\",\"subway_train\",\"workplaces\"]\n",
    "g_mob_filled.iloc[:2][features_to_fill]"
   ]
  },
  {
   "cell_type": "code",
   "execution_count": 88,
   "id": "88ae51a8-05f8-473e-9eff-ea5e81f9e9d4",
   "metadata": {},
   "outputs": [
    {
     "data": {
      "text/html": [
       "<div>\n",
       "<style scoped>\n",
       "    .dataframe tbody tr th:only-of-type {\n",
       "        vertical-align: middle;\n",
       "    }\n",
       "\n",
       "    .dataframe tbody tr th {\n",
       "        vertical-align: top;\n",
       "    }\n",
       "\n",
       "    .dataframe thead th {\n",
       "        text-align: right;\n",
       "    }\n",
       "</style>\n",
       "<table border=\"1\" class=\"dataframe\">\n",
       "  <thead>\n",
       "    <tr style=\"text-align: right;\">\n",
       "      <th></th>\n",
       "      <th>date</th>\n",
       "      <th>restaurants_cafes</th>\n",
       "      <th>grocery_pharmacies</th>\n",
       "      <th>parks</th>\n",
       "      <th>subway_train</th>\n",
       "      <th>workplaces</th>\n",
       "    </tr>\n",
       "  </thead>\n",
       "  <tbody>\n",
       "    <tr>\n",
       "      <th>0</th>\n",
       "      <td>2020-02-15</td>\n",
       "      <td>2.0</td>\n",
       "      <td>3.0</td>\n",
       "      <td>-11.0</td>\n",
       "      <td>-4.0</td>\n",
       "      <td>7.0</td>\n",
       "    </tr>\n",
       "    <tr>\n",
       "      <th>1</th>\n",
       "      <td>2020-02-16</td>\n",
       "      <td>7.0</td>\n",
       "      <td>6.0</td>\n",
       "      <td>14.0</td>\n",
       "      <td>2.0</td>\n",
       "      <td>5.0</td>\n",
       "    </tr>\n",
       "    <tr>\n",
       "      <th>2</th>\n",
       "      <td>2020-02-17</td>\n",
       "      <td>6.0</td>\n",
       "      <td>5.0</td>\n",
       "      <td>10.0</td>\n",
       "      <td>5.0</td>\n",
       "      <td>8.0</td>\n",
       "    </tr>\n",
       "    <tr>\n",
       "      <th>3</th>\n",
       "      <td>2020-02-18</td>\n",
       "      <td>4.0</td>\n",
       "      <td>6.0</td>\n",
       "      <td>11.0</td>\n",
       "      <td>4.0</td>\n",
       "      <td>8.0</td>\n",
       "    </tr>\n",
       "    <tr>\n",
       "      <th>4</th>\n",
       "      <td>2020-02-19</td>\n",
       "      <td>0.0</td>\n",
       "      <td>3.0</td>\n",
       "      <td>6.0</td>\n",
       "      <td>0.0</td>\n",
       "      <td>9.0</td>\n",
       "    </tr>\n",
       "  </tbody>\n",
       "</table>\n",
       "</div>"
      ],
      "text/plain": [
       "         date  restaurants_cafes  grocery_pharmacies  parks  subway_train  \\\n",
       "0  2020-02-15                2.0                 3.0  -11.0          -4.0   \n",
       "1  2020-02-16                7.0                 6.0   14.0           2.0   \n",
       "2  2020-02-17                6.0                 5.0   10.0           5.0   \n",
       "3  2020-02-18                4.0                 6.0   11.0           4.0   \n",
       "4  2020-02-19                0.0                 3.0    6.0           0.0   \n",
       "\n",
       "   workplaces  \n",
       "0         7.0  \n",
       "1         5.0  \n",
       "2         8.0  \n",
       "3         8.0  \n",
       "4         9.0  "
      ]
     },
     "execution_count": 88,
     "metadata": {},
     "output_type": "execute_result"
    }
   ],
   "source": [
    "g_mob_filled.iloc[:2][features_to_fill]=[[1,2,3,4,5],[2,3,4,5,6]]\n",
    "g_mob_filled.head(5)"
   ]
  },
  {
   "cell_type": "code",
   "execution_count": 89,
   "id": "7b4de90e-f646-44aa-94f7-e313cdaa7d41",
   "metadata": {},
   "outputs": [],
   "source": [
    "filled_df_array=np.zeros(nparray_df.shape)"
   ]
  },
  {
   "cell_type": "code",
   "execution_count": 90,
   "id": "a9223aef-2180-4149-bab6-cdf90cb095e2",
   "metadata": {
    "collapsed": true,
    "jupyter": {
     "outputs_hidden": true
    },
    "tags": []
   },
   "outputs": [
    {
     "name": "stdout",
     "output_type": "stream",
     "text": [
      "Imputing row 1/5000 with 0 missing, elapsed time: 2.301\n",
      "Imputing row 101/5000 with 0 missing, elapsed time: 2.301\n",
      "Imputing row 201/5000 with 0 missing, elapsed time: 2.301\n",
      "Imputing row 301/5000 with 0 missing, elapsed time: 2.301\n",
      "Imputing row 401/5000 with 0 missing, elapsed time: 2.301\n",
      "Imputing row 501/5000 with 0 missing, elapsed time: 2.301\n",
      "Imputing row 601/5000 with 0 missing, elapsed time: 2.301\n",
      "Imputing row 701/5000 with 0 missing, elapsed time: 2.301\n",
      "Imputing row 801/5000 with 0 missing, elapsed time: 2.301\n",
      "Imputing row 901/5000 with 0 missing, elapsed time: 2.301\n",
      "Imputing row 1001/5000 with 0 missing, elapsed time: 2.301\n",
      "Imputing row 1101/5000 with 0 missing, elapsed time: 2.301\n",
      "Imputing row 1201/5000 with 0 missing, elapsed time: 2.301\n",
      "Imputing row 1301/5000 with 1 missing, elapsed time: 2.301\n",
      "Imputing row 1401/5000 with 1 missing, elapsed time: 2.301\n",
      "Imputing row 1501/5000 with 2 missing, elapsed time: 2.301\n",
      "Imputing row 1601/5000 with 4 missing, elapsed time: 2.317\n",
      "Imputing row 1701/5000 with 4 missing, elapsed time: 2.317\n",
      "Imputing row 1801/5000 with 4 missing, elapsed time: 2.333\n",
      "Imputing row 1901/5000 with 1 missing, elapsed time: 2.333\n",
      "Imputing row 2001/5000 with 1 missing, elapsed time: 2.333\n",
      "Imputing row 2101/5000 with 1 missing, elapsed time: 2.348\n",
      "Imputing row 2201/5000 with 1 missing, elapsed time: 2.348\n",
      "Imputing row 2301/5000 with 0 missing, elapsed time: 2.348\n",
      "Imputing row 2401/5000 with 0 missing, elapsed time: 2.348\n",
      "Imputing row 2501/5000 with 0 missing, elapsed time: 2.348\n",
      "Imputing row 2601/5000 with 0 missing, elapsed time: 2.348\n",
      "Imputing row 2701/5000 with 0 missing, elapsed time: 2.348\n",
      "Imputing row 2801/5000 with 1 missing, elapsed time: 2.348\n",
      "Imputing row 2901/5000 with 0 missing, elapsed time: 2.348\n",
      "Imputing row 3001/5000 with 0 missing, elapsed time: 2.348\n",
      "Imputing row 3101/5000 with 0 missing, elapsed time: 2.364\n",
      "Imputing row 3201/5000 with 1 missing, elapsed time: 2.364\n",
      "Imputing row 3301/5000 with 1 missing, elapsed time: 2.364\n",
      "Imputing row 3401/5000 with 1 missing, elapsed time: 2.364\n",
      "Imputing row 3501/5000 with 4 missing, elapsed time: 2.364\n",
      "Imputing row 3601/5000 with 4 missing, elapsed time: 2.384\n",
      "Imputing row 3701/5000 with 4 missing, elapsed time: 2.396\n",
      "Imputing row 3801/5000 with 4 missing, elapsed time: 2.412\n",
      "Imputing row 3901/5000 with 4 missing, elapsed time: 2.420\n",
      "Imputing row 4001/5000 with 4 missing, elapsed time: 2.434\n",
      "Imputing row 4101/5000 with 2 missing, elapsed time: 2.440\n",
      "Imputing row 4201/5000 with 2 missing, elapsed time: 2.446\n",
      "Imputing row 4301/5000 with 2 missing, elapsed time: 2.451\n",
      "Imputing row 4401/5000 with 0 missing, elapsed time: 2.452\n",
      "Imputing row 4501/5000 with 4 missing, elapsed time: 2.453\n",
      "Imputing row 4601/5000 with 0 missing, elapsed time: 2.455\n",
      "Imputing row 4701/5000 with 0 missing, elapsed time: 2.455\n",
      "Imputing row 4801/5000 with 0 missing, elapsed time: 2.455\n",
      "Imputing row 4901/5000 with 0 missing, elapsed time: 2.457\n",
      "[KNN] Warning: 275/25000 still missing after imputation, replacing with 0\n"
     ]
    },
    {
     "ename": "ValueError",
     "evalue": "Input matrix is not missing any values",
     "output_type": "error",
     "traceback": [
      "\u001b[1;31m---------------------------------------------------------------------------\u001b[0m",
      "\u001b[1;31mValueError\u001b[0m                                Traceback (most recent call last)",
      "\u001b[1;32m~\\AppData\\Local\\Temp/ipykernel_29652/218883783.py\u001b[0m in \u001b[0;36m<module>\u001b[1;34m\u001b[0m\n\u001b[0;32m      4\u001b[0m \u001b[1;33m\u001b[0m\u001b[0m\n\u001b[0;32m      5\u001b[0m     \u001b[1;32mif\u001b[0m\u001b[1;33m(\u001b[0m\u001b[0mg_mob\u001b[0m\u001b[1;33m.\u001b[0m\u001b[0miloc\u001b[0m\u001b[1;33m[\u001b[0m\u001b[0mcurr\u001b[0m\u001b[1;33m:\u001b[0m\u001b[1;33m]\u001b[0m\u001b[1;33m[\u001b[0m\u001b[1;33m:\u001b[0m\u001b[1;33m]\u001b[0m\u001b[1;33m.\u001b[0m\u001b[0misnull\u001b[0m\u001b[1;33m(\u001b[0m\u001b[1;33m)\u001b[0m\u001b[1;33m.\u001b[0m\u001b[0mvalues\u001b[0m\u001b[1;33m.\u001b[0m\u001b[0many\u001b[0m\u001b[1;33m(\u001b[0m\u001b[1;33m)\u001b[0m\u001b[1;33m)\u001b[0m\u001b[1;33m:\u001b[0m\u001b[1;33m\u001b[0m\u001b[1;33m\u001b[0m\u001b[0m\n\u001b[1;32m----> 6\u001b[1;33m         \u001b[0mg_mob_filled\u001b[0m\u001b[1;33m=\u001b[0m\u001b[0mknnimput\u001b[0m\u001b[1;33m.\u001b[0m\u001b[0mKNN\u001b[0m\u001b[1;33m(\u001b[0m\u001b[0mk\u001b[0m \u001b[1;33m=\u001b[0m \u001b[1;36m37\u001b[0m\u001b[1;33m)\u001b[0m\u001b[1;33m.\u001b[0m\u001b[0mcomplete\u001b[0m\u001b[1;33m(\u001b[0m\u001b[0mnparray_df\u001b[0m\u001b[1;33m[\u001b[0m\u001b[0mcurr\u001b[0m\u001b[1;33m:\u001b[0m\u001b[1;33m]\u001b[0m\u001b[1;33m[\u001b[0m\u001b[1;33m:\u001b[0m\u001b[1;33m]\u001b[0m\u001b[1;33m)\u001b[0m\u001b[1;33m;\u001b[0m\u001b[1;33m\u001b[0m\u001b[1;33m\u001b[0m\u001b[0m\n\u001b[0m",
      "\u001b[1;32m~\\anaconda3\\lib\\site-packages\\ycimpute\\utils\\tools.py\u001b[0m in \u001b[0;36mcomplete\u001b[1;34m(self, x)\u001b[0m\n\u001b[0;32m     76\u001b[0m         \"\"\"\n\u001b[0;32m     77\u001b[0m         \u001b[0mself\u001b[0m\u001b[1;33m.\u001b[0m\u001b[0m_check_input\u001b[0m\u001b[1;33m(\u001b[0m\u001b[0mx\u001b[0m\u001b[1;33m)\u001b[0m\u001b[1;33m\u001b[0m\u001b[1;33m\u001b[0m\u001b[0m\n\u001b[1;32m---> 78\u001b[1;33m         \u001b[0mself\u001b[0m\u001b[1;33m.\u001b[0m\u001b[0m_check_missing_value_mask\u001b[0m\u001b[1;33m(\u001b[0m\u001b[0misnull\u001b[0m\u001b[1;33m(\u001b[0m\u001b[0mx\u001b[0m\u001b[1;33m)\u001b[0m\u001b[1;33m)\u001b[0m\u001b[1;33m\u001b[0m\u001b[1;33m\u001b[0m\u001b[0m\n\u001b[0m\u001b[0;32m     79\u001b[0m         \u001b[0mx\u001b[0m\u001b[1;33m,\u001b[0m \u001b[0mmissing_mask\u001b[0m \u001b[1;33m=\u001b[0m \u001b[0mself\u001b[0m\u001b[1;33m.\u001b[0m\u001b[0mprepare_input_data\u001b[0m\u001b[1;33m(\u001b[0m\u001b[0mx\u001b[0m\u001b[1;33m)\u001b[0m\u001b[1;33m\u001b[0m\u001b[1;33m\u001b[0m\u001b[0m\n\u001b[0;32m     80\u001b[0m \u001b[1;33m\u001b[0m\u001b[0m\n",
      "\u001b[1;32m~\\anaconda3\\lib\\site-packages\\ycimpute\\utils\\tools.py\u001b[0m in \u001b[0;36m_check_missing_value_mask\u001b[1;34m(self, missing_mask)\u001b[0m\n\u001b[0;32m     44\u001b[0m         \"\"\"\n\u001b[0;32m     45\u001b[0m         \u001b[1;32mif\u001b[0m \u001b[1;32mnot\u001b[0m \u001b[0mmissing_mask\u001b[0m\u001b[1;33m.\u001b[0m\u001b[0many\u001b[0m\u001b[1;33m(\u001b[0m\u001b[1;33m)\u001b[0m\u001b[1;33m:\u001b[0m\u001b[1;33m\u001b[0m\u001b[1;33m\u001b[0m\u001b[0m\n\u001b[1;32m---> 46\u001b[1;33m             \u001b[1;32mraise\u001b[0m \u001b[0mValueError\u001b[0m\u001b[1;33m(\u001b[0m\u001b[1;34m\"Input matrix is not missing any values\"\u001b[0m\u001b[1;33m)\u001b[0m\u001b[1;33m\u001b[0m\u001b[1;33m\u001b[0m\u001b[0m\n\u001b[0m\u001b[0;32m     47\u001b[0m         \u001b[1;32mif\u001b[0m \u001b[0mmissing_mask\u001b[0m\u001b[1;33m.\u001b[0m\u001b[0mall\u001b[0m\u001b[1;33m(\u001b[0m\u001b[1;33m)\u001b[0m\u001b[1;33m:\u001b[0m\u001b[1;33m\u001b[0m\u001b[1;33m\u001b[0m\u001b[0m\n\u001b[0;32m     48\u001b[0m             \u001b[1;32mraise\u001b[0m \u001b[0mValueError\u001b[0m\u001b[1;33m(\u001b[0m\u001b[1;34m\"Input matrix must have some non-missing values\"\u001b[0m\u001b[1;33m)\u001b[0m\u001b[1;33m\u001b[0m\u001b[1;33m\u001b[0m\u001b[0m\n",
      "\u001b[1;31mValueError\u001b[0m: Input matrix is not missing any values"
     ]
    }
   ],
   "source": [
    "for i in np.arange(5000, g_mob.shape[0],5000):\n",
    "    g_mob_filled=knnimput.KNN(k = 37).complete(nparray_df[curr:i][:]);\n",
    "    curr=i\n",
    " \n",
    "    if(g_mob.iloc[curr:][:].isnull().values.any()):\n",
    "        g_mob_filled=knnimput.KNN(k = 37).complete(nparray_df[curr:][:]);"
   ]
  },
  {
   "cell_type": "code",
   "execution_count": 93,
   "id": "51e748a3-7810-444a-9753-32a0b2433759",
   "metadata": {
    "collapsed": true,
    "jupyter": {
     "outputs_hidden": true
    },
    "tags": []
   },
   "outputs": [
    {
     "name": "stdout",
     "output_type": "stream",
     "text": [
      "Imputing row 1/1000 with 0 missing, elapsed time: 0.086\n",
      "Imputing row 101/1000 with 0 missing, elapsed time: 0.086\n",
      "Imputing row 201/1000 with 0 missing, elapsed time: 0.086\n",
      "Imputing row 301/1000 with 0 missing, elapsed time: 0.086\n",
      "Imputing row 401/1000 with 0 missing, elapsed time: 0.086\n",
      "Imputing row 501/1000 with 0 missing, elapsed time: 0.086\n",
      "Imputing row 601/1000 with 0 missing, elapsed time: 0.086\n",
      "Imputing row 701/1000 with 0 missing, elapsed time: 0.086\n",
      "Imputing row 801/1000 with 0 missing, elapsed time: 0.086\n",
      "Imputing row 901/1000 with 0 missing, elapsed time: 0.086\n",
      "[KNN] Warning: 110/5000 still missing after imputation, replacing with 0\n",
      "asdasd\n",
      "Imputing row 1/1000 with 0 missing, elapsed time: 0.087\n",
      "Imputing row 101/1000 with 0 missing, elapsed time: 0.087\n",
      "Imputing row 201/1000 with 0 missing, elapsed time: 0.087\n",
      "Imputing row 301/1000 with 1 missing, elapsed time: 0.087\n",
      "Imputing row 401/1000 with 1 missing, elapsed time: 0.104\n",
      "Imputing row 501/1000 with 2 missing, elapsed time: 0.106\n",
      "Imputing row 601/1000 with 4 missing, elapsed time: 0.107\n",
      "Imputing row 701/1000 with 4 missing, elapsed time: 0.111\n",
      "Imputing row 801/1000 with 4 missing, elapsed time: 0.116\n",
      "Imputing row 901/1000 with 1 missing, elapsed time: 0.120\n",
      "[KNN] Warning: 95/5000 still missing after imputation, replacing with 0\n"
     ]
    },
    {
     "ename": "ValueError",
     "evalue": "could not broadcast input array from shape (1000,5) into shape (0,5)",
     "output_type": "error",
     "traceback": [
      "\u001b[1;31m---------------------------------------------------------------------------\u001b[0m",
      "\u001b[1;31mValueError\u001b[0m                                Traceback (most recent call last)",
      "\u001b[1;32m~\\AppData\\Local\\Temp/ipykernel_29652/1614646064.py\u001b[0m in \u001b[0;36m<module>\u001b[1;34m\u001b[0m\n\u001b[0;32m      2\u001b[0m \u001b[0mcurr\u001b[0m\u001b[1;33m=\u001b[0m\u001b[1;36m0\u001b[0m\u001b[1;33m\u001b[0m\u001b[1;33m\u001b[0m\u001b[0m\n\u001b[0;32m      3\u001b[0m \u001b[1;32mfor\u001b[0m \u001b[0mi\u001b[0m \u001b[1;32min\u001b[0m \u001b[0mnp\u001b[0m\u001b[1;33m.\u001b[0m\u001b[0marange\u001b[0m\u001b[1;33m(\u001b[0m\u001b[1;36m1000\u001b[0m\u001b[1;33m,\u001b[0m \u001b[1;36m50000\u001b[0m\u001b[1;33m,\u001b[0m\u001b[1;36m1000\u001b[0m\u001b[1;33m)\u001b[0m\u001b[1;33m:\u001b[0m\u001b[1;33m\u001b[0m\u001b[1;33m\u001b[0m\u001b[0m\n\u001b[1;32m----> 4\u001b[1;33m     \u001b[0mfilled_df_array\u001b[0m\u001b[1;33m[\u001b[0m\u001b[0mcurr\u001b[0m\u001b[1;33m:\u001b[0m\u001b[0mi\u001b[0m\u001b[1;33m]\u001b[0m\u001b[1;33m=\u001b[0m\u001b[0mknnimput\u001b[0m\u001b[1;33m.\u001b[0m\u001b[0mKNN\u001b[0m\u001b[1;33m(\u001b[0m\u001b[0mk\u001b[0m \u001b[1;33m=\u001b[0m \u001b[1;36m37\u001b[0m\u001b[1;33m)\u001b[0m\u001b[1;33m.\u001b[0m\u001b[0mcomplete\u001b[0m\u001b[1;33m(\u001b[0m\u001b[0mnparray_df\u001b[0m\u001b[1;33m[\u001b[0m\u001b[0mcurr\u001b[0m\u001b[1;33m:\u001b[0m\u001b[0mi\u001b[0m\u001b[1;33m]\u001b[0m\u001b[1;33m[\u001b[0m\u001b[1;33m:\u001b[0m\u001b[1;33m]\u001b[0m\u001b[1;33m)\u001b[0m\u001b[1;33m;\u001b[0m\u001b[1;33m\u001b[0m\u001b[1;33m\u001b[0m\u001b[0m\n\u001b[0m\u001b[0;32m      5\u001b[0m     \u001b[0mcurr\u001b[0m\u001b[1;33m=\u001b[0m\u001b[0mi\u001b[0m\u001b[1;33m\u001b[0m\u001b[1;33m\u001b[0m\u001b[0m\n\u001b[0;32m      6\u001b[0m     \u001b[0mprint\u001b[0m\u001b[1;33m(\u001b[0m\u001b[1;34m\"asdasd\"\u001b[0m\u001b[1;33m)\u001b[0m\u001b[1;33m\u001b[0m\u001b[1;33m\u001b[0m\u001b[0m\n",
      "\u001b[1;31mValueError\u001b[0m: could not broadcast input array from shape (1000,5) into shape (0,5)"
     ]
    }
   ],
   "source": [
    "features_to_fill=[\"restaurants_cafes\",\"grocery_pharmacies\",\"parks\",\"subway_train\",\"workplaces\"]\n",
    "curr=0\n",
    "for i in np.arange(1000, 50000,1000):\n",
    "    filled_df_array[curr:i]=knnimput.KNN(k = 37).complete(nparray_df[curr:i][:]);\n",
    "    curr=i\n",
    "    print(\"asdasd\")"
   ]
  },
  {
   "cell_type": "code",
   "execution_count": 94,
   "id": "1276c78f-414c-4136-ab65-1259e04a0d5f",
   "metadata": {},
   "outputs": [
    {
     "data": {
      "text/plain": [
       "array([[  2.,   3., -11.,  -4.,   7.],\n",
       "       [  7.,   6.,  14.,   2.,   5.],\n",
       "       [  6.,   5.,  10.,   5.,   8.],\n",
       "       ...,\n",
       "       [-55., -16., -31., -45., -45.],\n",
       "       [-58., -23., -41., -47., -48.],\n",
       "       [-56., -31., -33., -43., -49.]])"
      ]
     },
     "execution_count": 94,
     "metadata": {},
     "output_type": "execute_result"
    }
   ],
   "source": [
    "filled_df_array"
   ]
  },
  {
   "cell_type": "code",
   "execution_count": null,
   "id": "1045707c-c224-4aec-b7b0-21146ddabf60",
   "metadata": {},
   "outputs": [],
   "source": []
  },
  {
   "cell_type": "code",
   "execution_count": null,
   "id": "a4af9acd-83de-45a3-be6b-215c4676a97f",
   "metadata": {},
   "outputs": [],
   "source": []
  },
  {
   "cell_type": "code",
   "execution_count": null,
   "id": "37dd11d2-f9a6-46cb-939b-378cd4117ca5",
   "metadata": {},
   "outputs": [],
   "source": []
  },
  {
   "cell_type": "markdown",
   "id": "9d54dd25-92f5-4f04-a952-e0d6934abe8b",
   "metadata": {},
   "source": [
    "**retail_and_recreation_percent_change_from_baseline**\n",
    "\n",
    "Mobility trends for places like restaurants, cafes, shopping centers, theme parks, museums, libraries, and movie theaters.\n",
    "\n",
    "**grocery_and_pharmacy_percent_change_from_baseline**\n",
    "\n",
    "Mobility trends for places like grocery markets, food warehouses, farmers markets, specialty food shops, drug stores, and pharmacies.\n",
    "\n",
    "**parks_percent_change_from_baseline**\n",
    "\n",
    "Mobility trends for places like local parks, national parks, public beaches, marinas, dog parks, plazas, and public gardens.\n",
    "\n",
    "**transit_stations_percent_change_from_baseline**\n",
    "\n",
    "Mobility trends for places like public transport hubs such as subway, bus, and train stations.\n",
    "\n",
    "**workplaces_percent_change_from_baseline**\n",
    "\n",
    "Mobility trends for places of work.\n"
   ]
  },
  {
   "cell_type": "code",
   "execution_count": null,
   "id": "e3ea739a-c879-4af4-85c1-4a11b48faf07",
   "metadata": {},
   "outputs": [],
   "source": []
  }
 ],
 "metadata": {
  "kernelspec": {
   "display_name": "Python 3 (ipykernel)",
   "language": "python",
   "name": "python3"
  },
  "language_info": {
   "codemirror_mode": {
    "name": "ipython",
    "version": 3
   },
   "file_extension": ".py",
   "mimetype": "text/x-python",
   "name": "python",
   "nbconvert_exporter": "python",
   "pygments_lexer": "ipython3",
   "version": "3.9.7"
  }
 },
 "nbformat": 4,
 "nbformat_minor": 5
}
